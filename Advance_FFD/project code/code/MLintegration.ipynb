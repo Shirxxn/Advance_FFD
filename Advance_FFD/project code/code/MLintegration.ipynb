{
 "cells": [
  {
   "cell_type": "code",
   "execution_count": 19,
   "metadata": {},
   "outputs": [],
   "source": [
    "import numpy as np\n",
    "import pandas as pd\n",
    "from sklearn.model_selection import train_test_split\n",
    "from sklearn.preprocessing import StandardScaler\n",
    "import category_encoders as ce\n",
    "from sklearn.metrics import accuracy_score, classification_report"
   ]
  },
  {
   "cell_type": "code",
   "execution_count": null,
   "metadata": {},
   "outputs": [
    {
     "name": "stdout",
     "output_type": "stream",
     "text": [
      "   step      type    amount     nameOrig  oldbalanceOrg  newbalanceOrig  \\\n",
      "0     1   PAYMENT   9839.64  C1231006815       170136.0       160296.36   \n",
      "1     1   PAYMENT   1864.28  C1666544295        21249.0        19384.72   \n",
      "2     1  TRANSFER    181.00  C1305486145          181.0            0.00   \n",
      "3     1  CASH_OUT    181.00   C840083671          181.0            0.00   \n",
      "4     1   PAYMENT  11668.14  C2048537720        41554.0        29885.86   \n",
      "\n",
      "      nameDest  oldbalanceDest  newbalanceDest  isFraud  isFlaggedFraud  \n",
      "0  M1979787155             0.0             0.0        0               0  \n",
      "1  M2044282225             0.0             0.0        0               0  \n",
      "2   C553264065             0.0             0.0        1               0  \n",
      "3    C38997010         21182.0             0.0        1               0  \n",
      "4  M1230701703             0.0             0.0        0               0  \n",
      "(1048575, 11)\n",
      "             step       amount  oldbalanceOrg  newbalanceOrig  oldbalanceDest  \\\n",
      "count  1048575.00   1048575.00     1048575.00      1048575.00      1048575.00   \n",
      "mean        26.97    158666.98      874009.54       893808.90       978160.05   \n",
      "std         15.62    264940.93     2971750.56      3008271.33      2296780.39   \n",
      "min          1.00         0.10           0.00            0.00            0.00   \n",
      "25%         15.00     12149.06           0.00            0.00            0.00   \n",
      "50%         20.00     76343.33       16002.00            0.00       126377.21   \n",
      "75%         39.00    213761.89      136642.02       174599.99       915923.48   \n",
      "max         95.00  10000000.00    38900000.00     38900000.00     42100000.00   \n",
      "\n",
      "       newbalanceDest     isFraud  isFlaggedFraud  \n",
      "count      1048575.00  1048575.00       1048575.0  \n",
      "mean       1114197.97        0.00             0.0  \n",
      "std        2416593.12        0.03             0.0  \n",
      "min              0.00        0.00             0.0  \n",
      "25%              0.00        0.00             0.0  \n",
      "50%         218260.36        0.00             0.0  \n",
      "75%        1149807.51        0.00             0.0  \n",
      "max       42200000.00        1.00             0.0  \n"
     ]
    }
   ],
   "source": [
    "df = pd.read_csv('Findata.csv')\n",
    "df = df.dropna()\n",
    "print(df.head())\n",
    "print(df.shape) \n",
    "print(df.describe().round(2))"
   ]
  },
  {
   "cell_type": "code",
   "execution_count": 9,
   "metadata": {},
   "outputs": [],
   "source": [
    "# Convert categorical data to numeric values using target encoding\n",
    "encoder = ce.TargetEncoder(cols=['type', 'nameOrig', 'nameDest'])\n",
    "df = encoder.fit_transform(df, df['isFraud'])\n",
    "\n",
    "# Normalize numerical columns\n",
    "scaler = StandardScaler()\n",
    "numerical_columns = df.select_dtypes(include=['float64', 'int64']).columns\n",
    "df[numerical_columns] = scaler.fit_transform(df[numerical_columns])"
   ]
  },
  {
   "cell_type": "code",
   "execution_count": 10,
   "metadata": {},
   "outputs": [
    {
     "name": "stdout",
     "output_type": "stream",
     "text": [
      "(838860, 10)\n",
      "(209715, 10)\n"
     ]
    }
   ],
   "source": [
    "X = df.iloc[:, :-1].values\n",
    "y = df.iloc[:, -1].values\n",
    "\n",
    "# Split the data into training and testing sets for supervised learning\n",
    "X_train, X_test, y_train, y_test = train_test_split(X, y, test_size=0.2, random_state=42)\n",
    "\n",
    "print(X_train.shape) #(838860, 10)\n",
    "print(X_test.shape) #(209715, 10)"
   ]
  },
  {
   "cell_type": "code",
   "execution_count": null,
   "metadata": {},
   "outputs": [],
   "source": [
    "from sklearn.ensemble import RandomForestClassifier\n",
    "\n",
    "# Supervised Learning: Random Forest Classifier\n",
    "clf = RandomForestClassifier(n_estimators=100, random_state=42)\n",
    "clf.fit(X_train, y_train)\n",
    "y_pred = clf.predict(X_test)\n"
   ]
  },
  {
   "cell_type": "code",
   "execution_count": 20,
   "metadata": {},
   "outputs": [
    {
     "name": "stdout",
     "output_type": "stream",
     "text": [
      "Supervised Learning - Random Forest Classifier\n",
      "Accuracy: 1.0\n",
      "              precision    recall  f1-score   support\n",
      "\n",
      "         0.0       1.00      1.00      1.00    209715\n",
      "\n",
      "    accuracy                           1.00    209715\n",
      "   macro avg       1.00      1.00      1.00    209715\n",
      "weighted avg       1.00      1.00      1.00    209715\n",
      "\n"
     ]
    }
   ],
   "source": [
    "# Evaluate the supervised learning model\n",
    "print(\"Supervised Learning - Random Forest Classifier\")\n",
    "print(\"Accuracy:\", accuracy_score(y_test, y_pred))\n",
    "print(classification_report(y_test, y_pred))"
   ]
  },
  {
   "cell_type": "code",
   "execution_count": 21,
   "metadata": {},
   "outputs": [
    {
     "name": "stdout",
     "output_type": "stream",
     "text": [
      "       step      type    amount   nameOrig  oldbalanceOrg  newbalanceOrig  \\\n",
      "0 -1.662022 -0.612335 -0.561738  -0.033018      -0.236855       -0.243832   \n",
      "1 -1.662022 -0.612335 -0.591840  -0.033018      -0.286956       -0.290673   \n",
      "2 -1.662022  3.042916 -0.598194  30.285174      -0.294045       -0.297117   \n",
      "3 -1.662022  0.257418 -0.598194  30.285174      -0.294045       -0.297117   \n",
      "4 -1.662022 -0.612335 -0.554837  -0.033018      -0.280123       -0.287183   \n",
      "\n",
      "   nameDest  oldbalanceDest  newbalanceDest    isFraud  isFlaggedFraud  \\\n",
      "0 -0.022779       -0.425883       -0.461062  -0.033019             0.0   \n",
      "1 -0.022779       -0.425883       -0.461062  -0.033019             0.0   \n",
      "2  6.576403       -0.425883       -0.461062  30.285174             0.0   \n",
      "3  6.546556       -0.416661       -0.461062  30.285174             0.0   \n",
      "4 -0.022779       -0.425883       -0.461062  -0.033019             0.0   \n",
      "\n",
      "   Cluster  \n",
      "0        0  \n",
      "1        0  \n",
      "2        1  \n",
      "3        1  \n",
      "4        0  \n"
     ]
    }
   ],
   "source": [
    "# Unsupervised Learning: K-Means Clustering\n",
    "from sklearn.cluster import KMeans\n",
    "kmeans = KMeans(n_clusters=2, random_state=42)\n",
    "df['Cluster'] = kmeans.fit_predict(df.drop(columns=[df.columns[-1]], errors='ignore'))\n",
    "\n",
    "# Display the first few rows of the dataset with cluster labels\n",
    "print(df.head())"
   ]
  },
  {
   "cell_type": "code",
   "execution_count": 22,
   "metadata": {},
   "outputs": [],
   "source": [
    "df.to_csv('data_with_clusters.csv', index=False)"
   ]
  }
 ],
 "metadata": {
  "kernelspec": {
   "display_name": "base",
   "language": "python",
   "name": "python3"
  },
  "language_info": {
   "codemirror_mode": {
    "name": "ipython",
    "version": 3
   },
   "file_extension": ".py",
   "mimetype": "text/x-python",
   "name": "python",
   "nbconvert_exporter": "python",
   "pygments_lexer": "ipython3",
   "version": "3.12.4"
  }
 },
 "nbformat": 4,
 "nbformat_minor": 2
}
